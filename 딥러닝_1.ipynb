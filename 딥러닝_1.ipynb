{
  "nbformat": 4,
  "nbformat_minor": 0,
  "metadata": {
    "colab": {
      "name": "딥러닝_1.ipynb",
      "provenance": [],
      "authorship_tag": "ABX9TyMG4lihg8vOQTYTFi/jqEyP",
      "include_colab_link": true
    },
    "kernelspec": {
      "name": "python3",
      "display_name": "Python 3"
    }
  },
  "cells": [
    {
      "cell_type": "markdown",
      "metadata": {
        "id": "view-in-github",
        "colab_type": "text"
      },
      "source": [
        "<a href=\"https://colab.research.google.com/github/Ymin-dgnn/MyFirstDeepLearning/blob/master/%EB%94%A5%EB%9F%AC%EB%8B%9D_1.ipynb\" target=\"_parent\"><img src=\"https://colab.research.google.com/assets/colab-badge.svg\" alt=\"Open In Colab\"/></a>"
      ]
    },
    {
      "cell_type": "markdown",
      "metadata": {
        "id": "IKrT6d45ZyEI",
        "colab_type": "text"
      },
      "source": [
        "Tensorflow 2.0 설치\n"
      ]
    },
    {
      "cell_type": "code",
      "metadata": {
        "id": "uBiouj_8Y2YT",
        "colab_type": "code",
        "colab": {
          "base_uri": "https://localhost:8080/",
          "height": 581
        },
        "outputId": "d949c286-27cb-429b-f621-6f5da4f5be66"
      },
      "source": [
        "!pip install tensorflow==2.0.0-rc1"
      ],
      "execution_count": 1,
      "outputs": [
        {
          "output_type": "stream",
          "text": [
            "Collecting tensorflow==2.0.0-rc1\n",
            "\u001b[?25l  Downloading https://files.pythonhosted.org/packages/40/d0/7359227ccfb6e2ae2a8fe345db1d513f010282022a7a6a899530cc63c41f/tensorflow-2.0.0rc1-cp36-cp36m-manylinux2010_x86_64.whl (86.3MB)\n",
            "\u001b[K     |████████████████████████████████| 86.3MB 54kB/s \n",
            "\u001b[?25hRequirement already satisfied: gast>=0.2.0 in /usr/local/lib/python3.6/dist-packages (from tensorflow==2.0.0-rc1) (0.2.2)\n",
            "Requirement already satisfied: keras-applications>=1.0.8 in /usr/local/lib/python3.6/dist-packages (from tensorflow==2.0.0-rc1) (1.0.8)\n",
            "Requirement already satisfied: wheel>=0.26 in /usr/local/lib/python3.6/dist-packages (from tensorflow==2.0.0-rc1) (0.34.2)\n",
            "Requirement already satisfied: termcolor>=1.1.0 in /usr/local/lib/python3.6/dist-packages (from tensorflow==2.0.0-rc1) (1.1.0)\n",
            "Requirement already satisfied: opt-einsum>=2.3.2 in /usr/local/lib/python3.6/dist-packages (from tensorflow==2.0.0-rc1) (3.1.0)\n",
            "Requirement already satisfied: keras-preprocessing>=1.0.5 in /usr/local/lib/python3.6/dist-packages (from tensorflow==2.0.0-rc1) (1.1.0)\n",
            "Requirement already satisfied: wrapt>=1.11.1 in /usr/local/lib/python3.6/dist-packages (from tensorflow==2.0.0-rc1) (1.11.2)\n",
            "Requirement already satisfied: protobuf>=3.6.1 in /usr/local/lib/python3.6/dist-packages (from tensorflow==2.0.0-rc1) (3.10.0)\n",
            "Requirement already satisfied: astor>=0.6.0 in /usr/local/lib/python3.6/dist-packages (from tensorflow==2.0.0-rc1) (0.8.1)\n",
            "Requirement already satisfied: google-pasta>=0.1.6 in /usr/local/lib/python3.6/dist-packages (from tensorflow==2.0.0-rc1) (0.1.8)\n",
            "Requirement already satisfied: numpy<2.0,>=1.16.0 in /usr/local/lib/python3.6/dist-packages (from tensorflow==2.0.0-rc1) (1.17.5)\n",
            "Collecting tf-estimator-nightly<1.14.0.dev2019080602,>=1.14.0.dev2019080601\n",
            "\u001b[?25l  Downloading https://files.pythonhosted.org/packages/21/28/f2a27a62943d5f041e4a6fd404b2d21cb7c59b2242a4e73b03d9ba166552/tf_estimator_nightly-1.14.0.dev2019080601-py2.py3-none-any.whl (501kB)\n",
            "\u001b[K     |████████████████████████████████| 501kB 41kB/s \n",
            "\u001b[?25hRequirement already satisfied: six>=1.10.0 in /usr/local/lib/python3.6/dist-packages (from tensorflow==2.0.0-rc1) (1.12.0)\n",
            "Requirement already satisfied: absl-py>=0.7.0 in /usr/local/lib/python3.6/dist-packages (from tensorflow==2.0.0-rc1) (0.9.0)\n",
            "Collecting tb-nightly<1.15.0a20190807,>=1.15.0a20190806\n",
            "\u001b[?25l  Downloading https://files.pythonhosted.org/packages/bc/88/24b5fb7280e74c7cf65bde47c171547fd02afb3840cff41bcbe9270650f5/tb_nightly-1.15.0a20190806-py3-none-any.whl (4.3MB)\n",
            "\u001b[K     |████████████████████████████████| 4.3MB 33.0MB/s \n",
            "\u001b[?25hRequirement already satisfied: grpcio>=1.8.6 in /usr/local/lib/python3.6/dist-packages (from tensorflow==2.0.0-rc1) (1.15.0)\n",
            "Requirement already satisfied: h5py in /usr/local/lib/python3.6/dist-packages (from keras-applications>=1.0.8->tensorflow==2.0.0-rc1) (2.8.0)\n",
            "Requirement already satisfied: setuptools in /usr/local/lib/python3.6/dist-packages (from protobuf>=3.6.1->tensorflow==2.0.0-rc1) (45.1.0)\n",
            "Requirement already satisfied: werkzeug>=0.11.15 in /usr/local/lib/python3.6/dist-packages (from tb-nightly<1.15.0a20190807,>=1.15.0a20190806->tensorflow==2.0.0-rc1) (0.16.1)\n",
            "Requirement already satisfied: markdown>=2.6.8 in /usr/local/lib/python3.6/dist-packages (from tb-nightly<1.15.0a20190807,>=1.15.0a20190806->tensorflow==2.0.0-rc1) (3.1.1)\n",
            "Installing collected packages: tf-estimator-nightly, tb-nightly, tensorflow\n",
            "  Found existing installation: tensorflow 1.15.0\n",
            "    Uninstalling tensorflow-1.15.0:\n",
            "      Successfully uninstalled tensorflow-1.15.0\n",
            "Successfully installed tb-nightly-1.15.0a20190806 tensorflow-2.0.0rc1 tf-estimator-nightly-1.14.0.dev2019080601\n"
          ],
          "name": "stdout"
        }
      ]
    },
    {
      "cell_type": "code",
      "metadata": {
        "id": "6klX9ze_Z61N",
        "colab_type": "code",
        "colab": {
          "base_uri": "https://localhost:8080/",
          "height": 34
        },
        "outputId": "c5ba503d-a91c-4b2e-d4cc-f79e0bfdc2db"
      },
      "source": [
        "import tensorflow as tf\n",
        "print(tf.__version__)"
      ],
      "execution_count": 3,
      "outputs": [
        {
          "output_type": "stream",
          "text": [
            "2.0.0-rc1\n"
          ],
          "name": "stdout"
        }
      ]
    },
    {
      "cell_type": "code",
      "metadata": {
        "id": "DNrXvtxRaL9t",
        "colab_type": "code",
        "colab": {
          "base_uri": "https://localhost:8080/",
          "height": 198
        },
        "outputId": "d0652494-fbd7-4a39-fa96-c5527f474934"
      },
      "source": [
        "hello = tf.constant(\"Hello, TensorFlow!\")\n",
        "sess = tf.session()\n",
        "print(sess.run(hello))"
      ],
      "execution_count": 7,
      "outputs": [
        {
          "output_type": "error",
          "ename": "AttributeError",
          "evalue": "ignored",
          "traceback": [
            "\u001b[0;31m---------------------------------------------------------------------------\u001b[0m",
            "\u001b[0;31mAttributeError\u001b[0m                            Traceback (most recent call last)",
            "\u001b[0;32m<ipython-input-7-5f5f7273b708>\u001b[0m in \u001b[0;36m<module>\u001b[0;34m()\u001b[0m\n\u001b[1;32m      1\u001b[0m \u001b[0mhello\u001b[0m \u001b[0;34m=\u001b[0m \u001b[0mtf\u001b[0m\u001b[0;34m.\u001b[0m\u001b[0mconstant\u001b[0m\u001b[0;34m(\u001b[0m\u001b[0;34m\"Hello, TensorFlow!\"\u001b[0m\u001b[0;34m)\u001b[0m\u001b[0;34m\u001b[0m\u001b[0;34m\u001b[0m\u001b[0m\n\u001b[0;32m----> 2\u001b[0;31m \u001b[0msess\u001b[0m \u001b[0;34m=\u001b[0m \u001b[0mtf\u001b[0m\u001b[0;34m.\u001b[0m\u001b[0msession\u001b[0m\u001b[0;34m(\u001b[0m\u001b[0;34m)\u001b[0m\u001b[0;34m\u001b[0m\u001b[0;34m\u001b[0m\u001b[0m\n\u001b[0m\u001b[1;32m      3\u001b[0m \u001b[0mprint\u001b[0m\u001b[0;34m(\u001b[0m\u001b[0msess\u001b[0m\u001b[0;34m.\u001b[0m\u001b[0mrun\u001b[0m\u001b[0;34m(\u001b[0m\u001b[0mhello\u001b[0m\u001b[0;34m)\u001b[0m\u001b[0;34m)\u001b[0m\u001b[0;34m\u001b[0m\u001b[0;34m\u001b[0m\u001b[0m\n",
            "\u001b[0;31mAttributeError\u001b[0m: module 'tensorflow' has no attribute 'session'"
          ]
        }
      ]
    },
    {
      "cell_type": "markdown",
      "metadata": {
        "id": "2pHka1GQaol3",
        "colab_type": "text"
      },
      "source": [
        "hello는 노드 sess는 세션"
      ]
    },
    {
      "cell_type": "code",
      "metadata": {
        "id": "3m7QBpS2cn9B",
        "colab_type": "code",
        "colab": {
          "base_uri": "https://localhost:8080/",
          "height": 1000
        },
        "outputId": "8403c1e1-d557-42c9-f1e7-46f1af39e5f0"
      },
      "source": [
        "!pip uninstall tensorflow"
      ],
      "execution_count": 8,
      "outputs": [
        {
          "output_type": "stream",
          "text": [
            "Uninstalling tensorflow-2.0.0rc1:\n",
            "  Would remove:\n",
            "    /usr/local/bin/saved_model_cli\n",
            "    /usr/local/bin/tensorboard\n",
            "    /usr/local/bin/tf_upgrade_v2\n",
            "    /usr/local/bin/tflite_convert\n",
            "    /usr/local/bin/toco\n",
            "    /usr/local/bin/toco_from_protos\n",
            "    /usr/local/lib/python3.6/dist-packages/tensorflow-2.0.0rc1.dist-info/*\n",
            "    /usr/local/lib/python3.6/dist-packages/tensorflow/*\n",
            "    /usr/local/lib/python3.6/dist-packages/tensorflow_core/*\n",
            "  Would not remove (might be manually added):\n",
            "    /usr/local/lib/python3.6/dist-packages/tensorflow_core/_api/v2/autodiff/__init__.py\n",
            "    /usr/local/lib/python3.6/dist-packages/tensorflow_core/_api/v2/compat/v1/compat/v1/__init__.py\n",
            "    /usr/local/lib/python3.6/dist-packages/tensorflow_core/_api/v2/compat/v1/compat/v1/compat/__init__.py\n",
            "    /usr/local/lib/python3.6/dist-packages/tensorflow_core/_api/v2/compat/v1/compat/v2/__init__.py\n",
            "    /usr/local/lib/python3.6/dist-packages/tensorflow_core/_api/v2/compat/v1/compat/v2/compat/__init__.py\n",
            "    /usr/local/lib/python3.6/dist-packages/tensorflow_core/_api/v2/compat/v1/debugging/experimental/__init__.py\n",
            "    /usr/local/lib/python3.6/dist-packages/tensorflow_core/_api/v2/compat/v1/mixed_precision/__init__.py\n",
            "    /usr/local/lib/python3.6/dist-packages/tensorflow_core/_api/v2/compat/v1/mixed_precision/experimental/__init__.py\n",
            "    /usr/local/lib/python3.6/dist-packages/tensorflow_core/_api/v2/compat/v1/mlir/__init__.py\n",
            "    /usr/local/lib/python3.6/dist-packages/tensorflow_core/_api/v2/compat/v1/mlir/experimental/__init__.py\n",
            "    /usr/local/lib/python3.6/dist-packages/tensorflow_core/_api/v2/compat/v2/autodiff/__init__.py\n",
            "    /usr/local/lib/python3.6/dist-packages/tensorflow_core/_api/v2/compat/v2/compat/v1/__init__.py\n",
            "    /usr/local/lib/python3.6/dist-packages/tensorflow_core/_api/v2/compat/v2/compat/v1/compat/__init__.py\n",
            "    /usr/local/lib/python3.6/dist-packages/tensorflow_core/_api/v2/compat/v2/compat/v2/__init__.py\n",
            "    /usr/local/lib/python3.6/dist-packages/tensorflow_core/_api/v2/compat/v2/compat/v2/compat/__init__.py\n",
            "    /usr/local/lib/python3.6/dist-packages/tensorflow_core/_api/v2/compat/v2/debugging/experimental/__init__.py\n",
            "    /usr/local/lib/python3.6/dist-packages/tensorflow_core/_api/v2/compat/v2/experimental/tensorrt/__init__.py\n",
            "    /usr/local/lib/python3.6/dist-packages/tensorflow_core/_api/v2/compat/v2/mixed_precision/__init__.py\n",
            "    /usr/local/lib/python3.6/dist-packages/tensorflow_core/_api/v2/compat/v2/mixed_precision/experimental/__init__.py\n",
            "    /usr/local/lib/python3.6/dist-packages/tensorflow_core/_api/v2/compat/v2/mlir/__init__.py\n",
            "    /usr/local/lib/python3.6/dist-packages/tensorflow_core/_api/v2/compat/v2/mlir/experimental/__init__.py\n",
            "    /usr/local/lib/python3.6/dist-packages/tensorflow_core/_api/v2/debugging/experimental/__init__.py\n",
            "    /usr/local/lib/python3.6/dist-packages/tensorflow_core/_api/v2/experimental/tensorrt/__init__.py\n",
            "    /usr/local/lib/python3.6/dist-packages/tensorflow_core/_api/v2/mixed_precision/__init__.py\n",
            "    /usr/local/lib/python3.6/dist-packages/tensorflow_core/_api/v2/mixed_precision/experimental/__init__.py\n",
            "    /usr/local/lib/python3.6/dist-packages/tensorflow_core/_api/v2/mlir/__init__.py\n",
            "    /usr/local/lib/python3.6/dist-packages/tensorflow_core/_api/v2/mlir/experimental/__init__.py\n",
            "    /usr/local/lib/python3.6/dist-packages/tensorflow_core/core/profiler/profiler_service_monitor_result_pb2.py\n",
            "    /usr/local/lib/python3.6/dist-packages/tensorflow_core/core/protobuf/bfc_memory_map_pb2.py\n",
            "    /usr/local/lib/python3.6/dist-packages/tensorflow_core/core/protobuf/debug_event_pb2.py\n",
            "    /usr/local/lib/python3.6/dist-packages/tensorflow_core/core/protobuf/error_codes_pb2.py\n",
            "    /usr/local/lib/python3.6/dist-packages/tensorflow_core/core/protobuf/remote_tensor_handle_pb2.py\n",
            "    /usr/local/lib/python3.6/dist-packages/tensorflow_core/include/Eigen/Eigen\n",
            "    /usr/local/lib/python3.6/dist-packages/tensorflow_core/include/Eigen/IterativeLinearSolvers\n",
            "    /usr/local/lib/python3.6/dist-packages/tensorflow_core/include/Eigen/MetisSupport\n",
            "    /usr/local/lib/python3.6/dist-packages/tensorflow_core/include/Eigen/Sparse\n",
            "    /usr/local/lib/python3.6/dist-packages/tensorflow_core/include/Eigen/SparseCholesky\n",
            "    /usr/local/lib/python3.6/dist-packages/tensorflow_core/include/Eigen/SparseLU\n",
            "    /usr/local/lib/python3.6/dist-packages/tensorflow_core/include/Eigen/src/Core/arch/AVX512/TypeCasting.h\n",
            "    /usr/local/lib/python3.6/dist-packages/tensorflow_core/include/Eigen/src/Core/arch/Default/GenericPacketMathFunctionsFwd.h\n",
            "    /usr/local/lib/python3.6/dist-packages/tensorflow_core/include/Eigen/src/Core/arch/Default/Half.h\n",
            "    /usr/local/lib/python3.6/dist-packages/tensorflow_core/include/Eigen/src/Core/arch/Default/TypeCasting.h\n",
            "    /usr/local/lib/python3.6/dist-packages/tensorflow_core/include/Eigen/src/OrderingMethods/Amd.h\n",
            "    /usr/local/lib/python3.6/dist-packages/tensorflow_core/include/Eigen/src/SparseCholesky/SimplicialCholesky.h\n",
            "    /usr/local/lib/python3.6/dist-packages/tensorflow_core/include/Eigen/src/SparseCholesky/SimplicialCholesky_impl.h\n",
            "    /usr/local/lib/python3.6/dist-packages/tensorflow_core/include/absl/debugging/leak_check.h\n",
            "    /usr/local/lib/python3.6/dist-packages/tensorflow_core/include/external/cub_archive/LICENSE.TXT\n",
            "    /usr/local/lib/python3.6/dist-packages/tensorflow_core/include/external/curl/lib/quic.h\n",
            "    /usr/local/lib/python3.6/dist-packages/tensorflow_core/include/external/gif/COPYING\n",
            "    /usr/local/lib/python3.6/dist-packages/tensorflow_core/include/external/gif/gif_hash.h\n",
            "    /usr/local/lib/python3.6/dist-packages/tensorflow_core/include/external/gif/gif_lib.h\n",
            "    /usr/local/lib/python3.6/dist-packages/tensorflow_core/include/external/gif/gif_lib_private.h\n",
            "    /usr/local/lib/python3.6/dist-packages/tensorflow_core/include/external/hwloc/hwloc/static-components.h\n",
            "    /usr/local/lib/python3.6/dist-packages/tensorflow_core/include/external/hwloc/include/hwloc.h\n",
            "    /usr/local/lib/python3.6/dist-packages/tensorflow_core/include/external/hwloc/include/hwloc/autogen/config.h\n",
            "    /usr/local/lib/python3.6/dist-packages/tensorflow_core/include/external/hwloc/include/hwloc/bitmap.h\n",
            "    /usr/local/lib/python3.6/dist-packages/tensorflow_core/include/external/hwloc/include/hwloc/deprecated.h\n",
            "    /usr/local/lib/python3.6/dist-packages/tensorflow_core/include/external/hwloc/include/hwloc/diff.h\n",
            "    /usr/local/lib/python3.6/dist-packages/tensorflow_core/include/external/hwloc/include/hwloc/distances.h\n",
            "    /usr/local/lib/python3.6/dist-packages/tensorflow_core/include/external/hwloc/include/hwloc/export.h\n",
            "    /usr/local/lib/python3.6/dist-packages/tensorflow_core/include/external/hwloc/include/hwloc/helper.h\n",
            "    /usr/local/lib/python3.6/dist-packages/tensorflow_core/include/external/hwloc/include/hwloc/inlines.h\n",
            "    /usr/local/lib/python3.6/dist-packages/tensorflow_core/include/external/hwloc/include/hwloc/linux.h\n",
            "    /usr/local/lib/python3.6/dist-packages/tensorflow_core/include/external/hwloc/include/hwloc/plugins.h\n",
            "    /usr/local/lib/python3.6/dist-packages/tensorflow_core/include/external/hwloc/include/hwloc/rename.h\n",
            "    /usr/local/lib/python3.6/dist-packages/tensorflow_core/include/external/hwloc/include/hwloc/shmem.h\n",
            "    /usr/local/lib/python3.6/dist-packages/tensorflow_core/include/external/hwloc/include/private/autogen/config.h\n",
            "    /usr/local/lib/python3.6/dist-packages/tensorflow_core/include/external/hwloc/include/private/components.h\n",
            "    /usr/local/lib/python3.6/dist-packages/tensorflow_core/include/external/hwloc/include/private/cpuid-x86.h\n",
            "    /usr/local/lib/python3.6/dist-packages/tensorflow_core/include/external/hwloc/include/private/debug.h\n",
            "    /usr/local/lib/python3.6/dist-packages/tensorflow_core/include/external/hwloc/include/private/internal-components.h\n",
            "    /usr/local/lib/python3.6/dist-packages/tensorflow_core/include/external/hwloc/include/private/misc.h\n",
            "    /usr/local/lib/python3.6/dist-packages/tensorflow_core/include/external/hwloc/include/private/private.h\n",
            "    /usr/local/lib/python3.6/dist-packages/tensorflow_core/include/external/hwloc/include/private/xml.h\n",
            "    /usr/local/lib/python3.6/dist-packages/tensorflow_core/include/external/libjpeg_turbo/LICENSE.md\n",
            "    /usr/local/lib/python3.6/dist-packages/tensorflow_core/include/external/libjpeg_turbo/jccolext.c\n",
            "    /usr/local/lib/python3.6/dist-packages/tensorflow_core/include/external/libjpeg_turbo/jchuff.h\n",
            "    /usr/local/lib/python3.6/dist-packages/tensorflow_core/include/external/libjpeg_turbo/jconfig.h\n",
            "    /usr/local/lib/python3.6/dist-packages/tensorflow_core/include/external/libjpeg_turbo/jconfigint.h\n",
            "    /usr/local/lib/python3.6/dist-packages/tensorflow_core/include/external/libjpeg_turbo/jdcoefct.h\n",
            "    /usr/local/lib/python3.6/dist-packages/tensorflow_core/include/external/libjpeg_turbo/jdcol565.c\n",
            "    /usr/local/lib/python3.6/dist-packages/tensorflow_core/include/external/libjpeg_turbo/jdcolext.c\n",
            "    /usr/local/lib/python3.6/dist-packages/tensorflow_core/include/external/libjpeg_turbo/jdct.h\n",
            "    /usr/local/lib/python3.6/dist-packages/tensorflow_core/include/external/libjpeg_turbo/jdhuff.h\n",
            "    /usr/local/lib/python3.6/dist-packages/tensorflow_core/include/external/libjpeg_turbo/jdmainct.h\n",
            "    /usr/local/lib/python3.6/dist-packages/tensorflow_core/include/external/libjpeg_turbo/jdmaster.h\n",
            "    /usr/local/lib/python3.6/dist-packages/tensorflow_core/include/external/libjpeg_turbo/jdmrg565.c\n",
            "    /usr/local/lib/python3.6/dist-packages/tensorflow_core/include/external/libjpeg_turbo/jdmrgext.c\n",
            "    /usr/local/lib/python3.6/dist-packages/tensorflow_core/include/external/libjpeg_turbo/jdsample.h\n",
            "    /usr/local/lib/python3.6/dist-packages/tensorflow_core/include/external/libjpeg_turbo/jerror.h\n",
            "    /usr/local/lib/python3.6/dist-packages/tensorflow_core/include/external/libjpeg_turbo/jinclude.h\n",
            "    /usr/local/lib/python3.6/dist-packages/tensorflow_core/include/external/libjpeg_turbo/jmemsys.h\n",
            "    /usr/local/lib/python3.6/dist-packages/tensorflow_core/include/external/libjpeg_turbo/jmorecfg.h\n",
            "    /usr/local/lib/python3.6/dist-packages/tensorflow_core/include/external/libjpeg_turbo/jpeg_nbits_table.h\n",
            "    /usr/local/lib/python3.6/dist-packages/tensorflow_core/include/external/libjpeg_turbo/jpegcomp.h\n",
            "    /usr/local/lib/python3.6/dist-packages/tensorflow_core/include/external/libjpeg_turbo/jpegint.h\n",
            "    /usr/local/lib/python3.6/dist-packages/tensorflow_core/include/external/libjpeg_turbo/jpeglib.h\n",
            "    /usr/local/lib/python3.6/dist-packages/tensorflow_core/include/external/libjpeg_turbo/jsimd.h\n",
            "    /usr/local/lib/python3.6/dist-packages/tensorflow_core/include/external/libjpeg_turbo/jsimddct.h\n",
            "    /usr/local/lib/python3.6/dist-packages/tensorflow_core/include/external/libjpeg_turbo/jstdhuff.c\n",
            "    /usr/local/lib/python3.6/dist-packages/tensorflow_core/include/external/libjpeg_turbo/jversion.h\n",
            "    /usr/local/lib/python3.6/dist-packages/tensorflow_core/include/external/libjpeg_turbo/simd/jsimd.h\n",
            "    /usr/local/lib/python3.6/dist-packages/tensorflow_core/include/external/nccl_archive/LICENSE.txt\n",
            "    /usr/local/lib/python3.6/dist-packages/tensorflow_core/include/external/nsync/internal/common.h\n",
            "    /usr/local/lib/python3.6/dist-packages/tensorflow_core/include/external/nsync/internal/dll.h\n",
            "    /usr/local/lib/python3.6/dist-packages/tensorflow_core/include/external/nsync/internal/headers.h\n",
            "    /usr/local/lib/python3.6/dist-packages/tensorflow_core/include/external/nsync/internal/sem.h\n",
            "    /usr/local/lib/python3.6/dist-packages/tensorflow_core/include/external/nsync/internal/wait_internal.h\n",
            "    /usr/local/lib/python3.6/dist-packages/tensorflow_core/include/external/nsync/platform/aarch64/cputype.h\n",
            "    /usr/local/lib/python3.6/dist-packages/tensorflow_core/include/external/nsync/platform/alpha/cputype.h\n",
            "    /usr/local/lib/python3.6/dist-packages/tensorflow_core/include/external/nsync/platform/arm/cputype.h\n",
            "    /usr/local/lib/python3.6/dist-packages/tensorflow_core/include/external/nsync/platform/atomic_ind/atomic.h\n",
            "    /usr/local/lib/python3.6/dist-packages/tensorflow_core/include/external/nsync/platform/c++11.futex/platform.h\n",
            "    /usr/local/lib/python3.6/dist-packages/tensorflow_core/include/external/nsync/platform/c++11/atomic.h\n",
            "    /usr/local/lib/python3.6/dist-packages/tensorflow_core/include/external/nsync/platform/c++11/platform.h\n",
            "    /usr/local/lib/python3.6/dist-packages/tensorflow_core/include/external/nsync/platform/c11/atomic.h\n",
            "    /usr/local/lib/python3.6/dist-packages/tensorflow_core/include/external/nsync/platform/clang/atomic.h\n",
            "    /usr/local/lib/python3.6/dist-packages/tensorflow_core/include/external/nsync/platform/clang/compiler.h\n",
            "    /usr/local/lib/python3.6/dist-packages/tensorflow_core/include/external/nsync/platform/cygwin/platform.h\n",
            "    /usr/local/lib/python3.6/dist-packages/tensorflow_core/include/external/nsync/platform/decc/compiler.h\n",
            "    /usr/local/lib/python3.6/dist-packages/tensorflow_core/include/external/nsync/platform/freebsd/platform.h\n",
            "    /usr/local/lib/python3.6/dist-packages/tensorflow_core/include/external/nsync/platform/gcc/atomic.h\n",
            "    /usr/local/lib/python3.6/dist-packages/tensorflow_core/include/external/nsync/platform/gcc/compiler.h\n",
            "    /usr/local/lib/python3.6/dist-packages/tensorflow_core/include/external/nsync/platform/gcc_new/atomic.h\n",
            "    /usr/local/lib/python3.6/dist-packages/tensorflow_core/include/external/nsync/platform/gcc_new_debug/atomic.h\n",
            "    /usr/local/lib/python3.6/dist-packages/tensorflow_core/include/external/nsync/platform/gcc_no_tls/compiler.h\n",
            "    /usr/local/lib/python3.6/dist-packages/tensorflow_core/include/external/nsync/platform/gcc_old/atomic.h\n",
            "    /usr/local/lib/python3.6/dist-packages/tensorflow_core/include/external/nsync/platform/lcc/compiler.h\n",
            "    /usr/local/lib/python3.6/dist-packages/tensorflow_core/include/external/nsync/platform/lcc/nsync_time_init.h\n",
            "    /usr/local/lib/python3.6/dist-packages/tensorflow_core/include/external/nsync/platform/linux/platform.h\n",
            "    /usr/local/lib/python3.6/dist-packages/tensorflow_core/include/external/nsync/platform/macos/atomic.h\n",
            "    /usr/local/lib/python3.6/dist-packages/tensorflow_core/include/external/nsync/platform/macos/platform.h\n",
            "    /usr/local/lib/python3.6/dist-packages/tensorflow_core/include/external/nsync/platform/macos/platform_c++11_os.h\n",
            "    /usr/local/lib/python3.6/dist-packages/tensorflow_core/include/external/nsync/platform/msvc/compiler.h\n",
            "    /usr/local/lib/python3.6/dist-packages/tensorflow_core/include/external/nsync/platform/netbsd/atomic.h\n",
            "    /usr/local/lib/python3.6/dist-packages/tensorflow_core/include/external/nsync/platform/netbsd/platform.h\n",
            "    /usr/local/lib/python3.6/dist-packages/tensorflow_core/include/external/nsync/platform/openbsd/platform.h\n",
            "    /usr/local/lib/python3.6/dist-packages/tensorflow_core/include/external/nsync/platform/osf1/platform.h\n",
            "    /usr/local/lib/python3.6/dist-packages/tensorflow_core/include/external/nsync/platform/pmax/cputype.h\n",
            "    /usr/local/lib/python3.6/dist-packages/tensorflow_core/include/external/nsync/platform/posix/cputype.h\n",
            "    /usr/local/lib/python3.6/dist-packages/tensorflow_core/include/external/nsync/platform/posix/nsync_time_init.h\n",
            "    /usr/local/lib/python3.6/dist-packages/tensorflow_core/include/external/nsync/platform/posix/platform_c++11_os.h\n",
            "    /usr/local/lib/python3.6/dist-packages/tensorflow_core/include/external/nsync/platform/ppc32/cputype.h\n",
            "    /usr/local/lib/python3.6/dist-packages/tensorflow_core/include/external/nsync/platform/ppc64/cputype.h\n",
            "    /usr/local/lib/python3.6/dist-packages/tensorflow_core/include/external/nsync/platform/s390x/cputype.h\n",
            "    /usr/local/lib/python3.6/dist-packages/tensorflow_core/include/external/nsync/platform/shark/cputype.h\n",
            "    /usr/local/lib/python3.6/dist-packages/tensorflow_core/include/external/nsync/platform/tcc/compiler.h\n",
            "    /usr/local/lib/python3.6/dist-packages/tensorflow_core/include/external/nsync/platform/win32/atomic.h\n",
            "    /usr/local/lib/python3.6/dist-packages/tensorflow_core/include/external/nsync/platform/win32/platform.h\n",
            "    /usr/local/lib/python3.6/dist-packages/tensorflow_core/include/external/nsync/platform/win32/platform_c++11_os.h\n",
            "    /usr/local/lib/python3.6/dist-packages/tensorflow_core/include/external/nsync/platform/x86_32/cputype.h\n",
            "    /usr/local/lib/python3.6/dist-packages/tensorflow_core/include/external/nsync/platform/x86_64/cputype.h\n",
            "    /usr/local/lib/python3.6/dist-packages/tensorflow_core/include/external/png/LICENSE\n",
            "    /usr/local/lib/python3.6/dist-packages/tensorflow_core/include/external/snappy/config.h\n",
            "    /usr/local/lib/python3.6/dist-packages/tensorflow_core/include/external/snappy/snappy-internal.h\n",
            "    /usr/local/lib/python3.6/dist-packages/tensorflow_core/include/external/snappy/snappy-sinksource.h\n",
            "    /usr/local/lib/python3.6/dist-packages/tensorflow_core/include/external/snappy/snappy-stubs-internal.h\n",
            "    /usr/local/lib/python3.6/dist-packages/tensorflow_core/include/external/snappy/snappy-stubs-public.h\n",
            "    /usr/local/lib/python3.6/dist-packages/tensorflow_core/include/external/snappy/snappy.h\n",
            "    /usr/local/lib/python3.6/dist-packages/tensorflow_core/include/tensorflow/core/common_runtime/gpu/gpu_event_mgr.h\n",
            "    /usr/local/lib/python3.6/dist-packages/tensorflow_core/include/tensorflow/core/common_runtime/gpu/gpu_init.h\n",
            "    /usr/local/lib/python3.6/dist-packages/tensorflow_core/include/tensorflow/core/framework/shared_ptr_variant.h\n",
            "    /usr/local/lib/python3.6/dist-packages/tensorflow_core/include/tensorflow/core/grappler/utils/transitive_fanin.h\n",
            "    /usr/local/lib/python3.6/dist-packages/tensorflow_core/include/tensorflow/core/lib/core/status_test_util.h\n",
            "    /usr/local/lib/python3.6/dist-packages/tensorflow_core/include/tensorflow/core/lib/random/philox_random_test_utils.h\n",
            "    /usr/local/lib/python3.6/dist-packages/tensorflow_core/include/tensorflow/core/platform/default/posix_file_system.h\n",
            "    /usr/local/lib/python3.6/dist-packages/tensorflow_core/include/tensorflow/core/platform/default/subprocess.h\n",
            "    /usr/local/lib/python3.6/dist-packages/tensorflow_core/include/tensorflow/core/platform/numbers.h\n",
            "    /usr/local/lib/python3.6/dist-packages/tensorflow_core/include/tensorflow/core/platform/rocm_rocdl_path.h\n",
            "    /usr/local/lib/python3.6/dist-packages/tensorflow_core/include/tensorflow/core/platform/scanner.h\n",
            "    /usr/local/lib/python3.6/dist-packages/tensorflow_core/include/tensorflow/core/platform/str_util.h\n",
            "    /usr/local/lib/python3.6/dist-packages/tensorflow_core/include/tensorflow/core/platform/strcat.h\n",
            "    /usr/local/lib/python3.6/dist-packages/tensorflow_core/include/tensorflow/core/platform/stringpiece.h\n",
            "    /usr/local/lib/python3.6/dist-packages/tensorflow_core/include/tensorflow/core/platform/stringprintf.h\n",
            "    /usr/local/lib/python3.6/dist-packages/tensorflow_core/include/tensorflow/core/platform/threadpool.h\n",
            "    /usr/local/lib/python3.6/dist-packages/tensorflow_core/include/tensorflow/core/platform/threadpool_interface.h\n",
            "    /usr/local/lib/python3.6/dist-packages/tensorflow_core/include/tensorflow/core/platform/threadpool_options.h\n",
            "    /usr/local/lib/python3.6/dist-packages/tensorflow_core/include/tensorflow/core/protobuf/bfc_memory_map.pb.h\n",
            "    /usr/local/lib/python3.6/dist-packages/tensorflow_core/include/tensorflow/core/protobuf/debug_event.pb.h\n",
            "    /usr/local/lib/python3.6/dist-packages/tensorflow_core/include/tensorflow/core/protobuf/error_codes.pb.h\n",
            "    /usr/local/lib/python3.6/dist-packages/tensorflow_core/include/tensorflow/core/protobuf/remote_tensor_handle.pb.h\n",
            "    /usr/local/lib/python3.6/dist-packages/tensorflow_core/include/tensorflow/core/util/debug_events_writer.h\n",
            "    /usr/local/lib/python3.6/dist-packages/tensorflow_core/include/tensorflow/core/util/xla_config_registry.h\n",
            "    /usr/local/lib/python3.6/dist-packages/tensorflow_core/include/tensorflow/stream_executor/cuda/cuda_activation.h\n",
            "    /usr/local/lib/python3.6/dist-packages/tensorflow_core/include/tensorflow/stream_executor/cuda/cuda_diagnostics.h\n",
            "    /usr/local/lib/python3.6/dist-packages/tensorflow_core/include/tensorflow/stream_executor/cuda/cuda_driver.h\n",
            "    /usr/local/lib/python3.6/dist-packages/tensorflow_core/include/tensorflow/stream_executor/gpu/gpu_activation.h\n",
            "    /usr/local/lib/python3.6/dist-packages/tensorflow_core/include/tensorflow/stream_executor/gpu/gpu_diagnostics.h\n",
            "    /usr/local/lib/python3.6/dist-packages/tensorflow_core/include/tensorflow/stream_executor/gpu/gpu_driver.h\n",
            "    /usr/local/lib/python3.6/dist-packages/tensorflow_core/include/tensorflow/stream_executor/gpu/gpu_types.h\n",
            "    /usr/local/lib/python3.6/dist-packages/tensorflow_core/include/third_party/eigen3/Eigen/OrderingMethods\n",
            "    /usr/local/lib/python3.6/dist-packages/tensorflow_core/include/third_party/eigen3/Eigen/SparseCholesky\n",
            "    /usr/local/lib/python3.6/dist-packages/tensorflow_core/include/third_party/eigen3/Eigen/SparseCore\n",
            "    /usr/local/lib/python3.6/dist-packages/tensorflow_core/include/unsupported/Eigen/CXX11/src/Tensor/TensorBlockV2.h\n",
            "    /usr/local/lib/python3.6/dist-packages/tensorflow_core/include/unsupported/Eigen/CXX11/src/Tensor/TensorScanSycl.h\n",
            "    /usr/local/lib/python3.6/dist-packages/tensorflow_core/include/unsupported/Eigen/src/SpecialFunctions/BesselFunctionsArrayAPI.h\n",
            "    /usr/local/lib/python3.6/dist-packages/tensorflow_core/include/unsupported/Eigen/src/SpecialFunctions/BesselFunctionsFunctors.h\n",
            "    /usr/local/lib/python3.6/dist-packages/tensorflow_core/include/unsupported/Eigen/src/SpecialFunctions/BesselFunctionsHalf.h\n",
            "    /usr/local/lib/python3.6/dist-packages/tensorflow_core/include/unsupported/Eigen/src/SpecialFunctions/BesselFunctionsImpl.h\n",
            "    /usr/local/lib/python3.6/dist-packages/tensorflow_core/include/unsupported/Eigen/src/SpecialFunctions/BesselFunctionsPacketMath.h\n",
            "    /usr/local/lib/python3.6/dist-packages/tensorflow_core/include/unsupported/Eigen/src/SpecialFunctions/HipVectorCompatibility.h\n",
            "    /usr/local/lib/python3.6/dist-packages/tensorflow_core/lite/toco/logging/__init__.py\n",
            "    /usr/local/lib/python3.6/dist-packages/tensorflow_core/lite/toco/logging/gen_html.py\n",
            "    /usr/local/lib/python3.6/dist-packages/tensorflow_core/lite/toco/logging/toco_conversion_log_pb2.py\n",
            "    /usr/local/lib/python3.6/dist-packages/tensorflow_core/python/_op_def_registry.so\n",
            "    /usr/local/lib/python3.6/dist-packages/tensorflow_core/python/_pywrap_checkpoint_reader.so\n",
            "    /usr/local/lib/python3.6/dist-packages/tensorflow_core/python/_pywrap_debug_events_writer.so\n",
            "    /usr/local/lib/python3.6/dist-packages/tensorflow_core/python/_pywrap_device_lib.so\n",
            "    /usr/local/lib/python3.6/dist-packages/tensorflow_core/python/_pywrap_events_writer.so\n",
            "    /usr/local/lib/python3.6/dist-packages/tensorflow_core/python/_pywrap_kernel_registry.so\n",
            "    /usr/local/lib/python3.6/dist-packages/tensorflow_core/python/_pywrap_py_exception_registry.so\n",
            "    /usr/local/lib/python3.6/dist-packages/tensorflow_core/python/_pywrap_py_func.so\n",
            "    /usr/local/lib/python3.6/dist-packages/tensorflow_core/python/_pywrap_quantize_training.so\n",
            "    /usr/local/lib/python3.6/dist-packages/tensorflow_core/python/_pywrap_scoped_annotation.so\n",
            "    /usr/local/lib/python3.6/dist-packages/tensorflow_core/python/_pywrap_stacktrace_handler.so\n",
            "    /usr/local/lib/python3.6/dist-packages/tensorflow_core/python/_pywrap_stat_summarizer.so\n",
            "    /usr/local/lib/python3.6/dist-packages/tensorflow_core/python/_pywrap_tfprof.so\n",
            "    /usr/local/lib/python3.6/dist-packages/tensorflow_core/python/_pywrap_toco_api.so\n",
            "    /usr/local/lib/python3.6/dist-packages/tensorflow_core/python/_pywrap_traceme.so\n",
            "    /usr/local/lib/python3.6/dist-packages/tensorflow_core/python/_pywrap_transform_graph.so\n",
            "    /usr/local/lib/python3.6/dist-packages/tensorflow_core/python/_pywrap_util_port.so\n",
            "    /usr/local/lib/python3.6/dist-packages/tensorflow_core/python/_pywrap_utils.so\n",
            "    /usr/local/lib/python3.6/dist-packages/tensorflow_core/python/_tf_stack.so\n",
            "    /usr/local/lib/python3.6/dist-packages/tensorflow_core/python/compiler/mlir/__init__.py\n",
            "    /usr/local/lib/python3.6/dist-packages/tensorflow_core/python/compiler/mlir/mlir.py\n",
            "    /usr/local/lib/python3.6/dist-packages/tensorflow_core/python/debug/examples/debug_mnist.py\n",
            "    /usr/local/lib/python3.6/dist-packages/tensorflow_core/python/debug/examples/v1/__init__.py\n",
            "    /usr/local/lib/python3.6/dist-packages/tensorflow_core/python/debug/examples/v1/debug_errors.py\n",
            "    /usr/local/lib/python3.6/dist-packages/tensorflow_core/python/debug/examples/v1/debug_fibonacci.py\n",
            "    /usr/local/lib/python3.6/dist-packages/tensorflow_core/python/debug/examples/v1/debug_keras.py\n",
            "    /usr/local/lib/python3.6/dist-packages/tensorflow_core/python/debug/examples/v1/debug_mnist_v1.py\n",
            "    /usr/local/lib/python3.6/dist-packages/tensorflow_core/python/debug/examples/v2/__init__.py\n",
            "    /usr/local/lib/python3.6/dist-packages/tensorflow_core/python/debug/examples/v2/debug_fibonacci_v2.py\n",
            "    /usr/local/lib/python3.6/dist-packages/tensorflow_core/python/debug/examples/v2/debug_mnist_v2.py\n",
            "    /usr/local/lib/python3.6/dist-packages/tensorflow_core/python/debug/lib/check_numerics_callback.py\n",
            "    /usr/local/lib/python3.6/dist-packages/tensorflow_core/python/debug/lib/debug_events_reader.py\n",
            "    /usr/local/lib/python3.6/dist-packages/tensorflow_core/python/debug/lib/debug_events_writer.py\n",
            "    /usr/local/lib/python3.6/dist-packages/tensorflow_core/python/debug/lib/dumping_callback.py\n",
            "    /usr/local/lib/python3.6/dist-packages/tensorflow_core/python/debug/lib/dumping_callback_test_lib.py\n",
            "    /usr/local/lib/python3.6/dist-packages/tensorflow_core/python/debug/lib/op_callbacks_common.py\n",
            "    /usr/local/lib/python3.6/dist-packages/tensorflow_core/python/distribute/distributed_file_utils.py\n",
            "    /usr/local/lib/python3.6/dist-packages/tensorflow_core/python/distribute/multi_process_lib.py\n",
            "    /usr/local/lib/python3.6/dist-packages/tensorflow_core/python/distribute/multi_process_runner.py\n",
            "    /usr/local/lib/python3.6/dist-packages/tensorflow_core/python/distribute/multi_process_runner_util.py\n",
            "    /usr/local/lib/python3.6/dist-packages/tensorflow_core/python/distribute/sharded_variable.py\n",
            "    /usr/local/lib/python3.6/dist-packages/tensorflow_core/python/eager/backprop_util.py\n",
            "    /usr/local/lib/python3.6/dist-packages/tensorflow_core/python/eager/forwardprop_util.py\n",
            "    /usr/local/lib/python3.6/dist-packages/tensorflow_core/python/framework/op_callbacks.py\n",
            "    /usr/local/lib/python3.6/dist-packages/tensorflow_core/python/keras/api/_v1/keras/layers/experimental/preprocessing/__init__.py\n",
            "    /usr/local/lib/python3.6/dist-packages/tensorflow_core/python/keras/api/_v2/keras/layers/experimental/preprocessing/__init__.py\n",
            "    /usr/local/lib/python3.6/dist-packages/tensorflow_core/python/keras/api/keras/layers/experimental/preprocessing/__init__.py\n",
            "    /usr/local/lib/python3.6/dist-packages/tensorflow_core/python/keras/distribute/keras_rnn_model_correctness_test.py\n",
            "    /usr/local/lib/python3.6/dist-packages/tensorflow_core/python/keras/layers/image_preprocessing.py\n",
            "    /usr/local/lib/python3.6/dist-packages/tensorflow_core/python/keras/layers/preprocessing/text_vectorization.py\n",
            "    /usr/local/lib/python3.6/dist-packages/tensorflow_core/python/keras/layers/preprocessing/text_vectorization_v1.py\n",
            "    /usr/local/lib/python3.6/dist-packages/tensorflow_core/python/keras/mixed_precision/experimental/loss_scale.py\n",
            "    /usr/local/lib/python3.6/dist-packages/tensorflow_core/python/keras/model_subclassing_test_util.py\n",
            "    /usr/local/lib/python3.6/dist-packages/tensorflow_core/python/keras/utils/all_utils.py\n",
            "    /usr/local/lib/python3.6/dist-packages/tensorflow_core/python/kernel_tests/bias_op_base.py\n",
            "    /usr/local/lib/python3.6/dist-packages/tensorflow_core/python/kernel_tests/cudnn_deterministic_base.py\n",
            "    /usr/local/lib/python3.6/dist-packages/tensorflow_core/python/ops/gen_debug_ops.py\n",
            "    /usr/local/lib/python3.6/dist-packages/tensorflow_core/python/ops/gen_sendrecv_ops.py\n",
            "    /usr/local/lib/python3.6/dist-packages/tensorflow_core/python/ops/linalg/linear_operator_permutation.py\n",
            "    /usr/local/lib/python3.6/dist-packages/tensorflow_core/python/ops/linalg/sparse/__init__.py\n",
            "    /usr/local/lib/python3.6/dist-packages/tensorflow_core/python/ops/linalg/sparse/conjugate_gradient.py\n",
            "    /usr/local/lib/python3.6/dist-packages/tensorflow_core/python/ops/linalg/sparse/gen_sparse_csr_matrix_ops.py\n",
            "    /usr/local/lib/python3.6/dist-packages/tensorflow_core/python/ops/linalg/sparse/sparse.py\n",
            "    /usr/local/lib/python3.6/dist-packages/tensorflow_core/python/ops/linalg/sparse/sparse_csr_matrix_grad.py\n",
            "    /usr/local/lib/python3.6/dist-packages/tensorflow_core/python/ops/linalg/sparse/sparse_csr_matrix_ops.py\n",
            "    /usr/local/lib/python3.6/dist-packages/tensorflow_core/python/ops/parsing_config.py\n",
            "    /usr/local/lib/python3.6/dist-packages/tensorflow_core/python/ops/structured/__init__.py\n",
            "    /usr/local/lib/python3.6/dist-packages/tensorflow_core/python/ops/structured/structured_tensor.py\n",
            "    /usr/local/lib/python3.6/dist-packages/tensorflow_core/python/platform/analytics.py\n",
            "    /usr/local/lib/python3.6/dist-packages/tensorflow_core/python/profiler/traceme.py\n",
            "    /usr/local/lib/python3.6/dist-packages/tensorflow_core/python/training/experimental/loss_scaling_gradient_tape.py\n",
            "    /usr/local/lib/python3.6/dist-packages/tensorflow_core/python/training/py_checkpoint_reader.py\n",
            "    /usr/local/lib/python3.6/dist-packages/tensorflow_core/python/training/quantize_training.py\n",
            "Proceed (y/n)? y\n",
            "  Successfully uninstalled tensorflow-2.0.0rc1\n"
          ],
          "name": "stdout"
        }
      ]
    },
    {
      "cell_type": "code",
      "metadata": {
        "id": "Pwd2tvZ3cyFE",
        "colab_type": "code",
        "colab": {
          "base_uri": "https://localhost:8080/",
          "height": 241
        },
        "outputId": "e14096d2-fd55-40f0-a67b-4afa96ec6e7c"
      },
      "source": [
        "!pip install tensorflow==1.5.0-rc1"
      ],
      "execution_count": 1,
      "outputs": [
        {
          "output_type": "stream",
          "text": [
            "Requirement already satisfied: tensorflow==1.5.0-rc1 in /usr/local/lib/python3.6/dist-packages (1.5.0rc1)\n",
            "Requirement already satisfied: numpy>=1.12.1 in /usr/local/lib/python3.6/dist-packages (from tensorflow==1.5.0-rc1) (1.17.5)\n",
            "Requirement already satisfied: six>=1.10.0 in /usr/local/lib/python3.6/dist-packages (from tensorflow==1.5.0-rc1) (1.12.0)\n",
            "Requirement already satisfied: protobuf>=3.4.0 in /usr/local/lib/python3.6/dist-packages (from tensorflow==1.5.0-rc1) (3.10.0)\n",
            "Requirement already satisfied: wheel>=0.26 in /usr/local/lib/python3.6/dist-packages (from tensorflow==1.5.0-rc1) (0.34.2)\n",
            "Requirement already satisfied: tensorflow-tensorboard in /usr/local/lib/python3.6/dist-packages (from tensorflow==1.5.0-rc1) (1.5.1)\n",
            "Requirement already satisfied: absl-py>=0.1.6 in /usr/local/lib/python3.6/dist-packages (from tensorflow==1.5.0-rc1) (0.9.0)\n",
            "Requirement already satisfied: setuptools in /usr/local/lib/python3.6/dist-packages (from protobuf>=3.4.0->tensorflow==1.5.0-rc1) (45.1.0)\n",
            "Requirement already satisfied: bleach==1.5.0 in /usr/local/lib/python3.6/dist-packages (from tensorflow-tensorboard->tensorflow==1.5.0-rc1) (1.5.0)\n",
            "Requirement already satisfied: html5lib==0.9999999 in /usr/local/lib/python3.6/dist-packages (from tensorflow-tensorboard->tensorflow==1.5.0-rc1) (0.9999999)\n",
            "Requirement already satisfied: markdown>=2.6.8 in /usr/local/lib/python3.6/dist-packages (from tensorflow-tensorboard->tensorflow==1.5.0-rc1) (3.1.1)\n",
            "Requirement already satisfied: werkzeug>=0.11.10 in /usr/local/lib/python3.6/dist-packages (from tensorflow-tensorboard->tensorflow==1.5.0-rc1) (0.16.1)\n"
          ],
          "name": "stdout"
        }
      ]
    },
    {
      "cell_type": "code",
      "metadata": {
        "id": "crFxAKu3dLeS",
        "colab_type": "code",
        "colab": {
          "base_uri": "https://localhost:8080/",
          "height": 304
        },
        "outputId": "a0f6de5f-ec9f-4e0c-8814-f973d9043130"
      },
      "source": [
        "import tensorflow as tf\n",
        "print(tf.__version__)"
      ],
      "execution_count": 2,
      "outputs": [
        {
          "output_type": "stream",
          "text": [
            "/usr/local/lib/python3.6/dist-packages/tensorflow/python/framework/dtypes.py:493: FutureWarning: Passing (type, 1) or '1type' as a synonym of type is deprecated; in a future version of numpy, it will be understood as (type, (1,)) / '(1,)type'.\n",
            "  _np_qint8 = np.dtype([(\"qint8\", np.int8, 1)])\n",
            "/usr/local/lib/python3.6/dist-packages/tensorflow/python/framework/dtypes.py:494: FutureWarning: Passing (type, 1) or '1type' as a synonym of type is deprecated; in a future version of numpy, it will be understood as (type, (1,)) / '(1,)type'.\n",
            "  _np_quint8 = np.dtype([(\"quint8\", np.uint8, 1)])\n",
            "/usr/local/lib/python3.6/dist-packages/tensorflow/python/framework/dtypes.py:495: FutureWarning: Passing (type, 1) or '1type' as a synonym of type is deprecated; in a future version of numpy, it will be understood as (type, (1,)) / '(1,)type'.\n",
            "  _np_qint16 = np.dtype([(\"qint16\", np.int16, 1)])\n",
            "/usr/local/lib/python3.6/dist-packages/tensorflow/python/framework/dtypes.py:496: FutureWarning: Passing (type, 1) or '1type' as a synonym of type is deprecated; in a future version of numpy, it will be understood as (type, (1,)) / '(1,)type'.\n",
            "  _np_quint16 = np.dtype([(\"quint16\", np.uint16, 1)])\n",
            "/usr/local/lib/python3.6/dist-packages/tensorflow/python/framework/dtypes.py:497: FutureWarning: Passing (type, 1) or '1type' as a synonym of type is deprecated; in a future version of numpy, it will be understood as (type, (1,)) / '(1,)type'.\n",
            "  _np_qint32 = np.dtype([(\"qint32\", np.int32, 1)])\n",
            "/usr/local/lib/python3.6/dist-packages/tensorflow/python/framework/dtypes.py:502: FutureWarning: Passing (type, 1) or '1type' as a synonym of type is deprecated; in a future version of numpy, it will be understood as (type, (1,)) / '(1,)type'.\n",
            "  np_resource = np.dtype([(\"resource\", np.ubyte, 1)])\n"
          ],
          "name": "stderr"
        },
        {
          "output_type": "display_data",
          "data": {
            "text/html": [
              "<p style=\"color: red;\">\n",
              "The default version of TensorFlow in Colab will soon switch to TensorFlow 2.x.<br>\n",
              "We recommend you <a href=\"https://www.tensorflow.org/guide/migrate\" target=\"_blank\">upgrade</a> now \n",
              "or ensure your notebook will continue to use TensorFlow 1.x via the <code>%tensorflow_version 1.x</code> magic:\n",
              "<a href=\"https://colab.research.google.com/notebooks/tensorflow_version.ipynb\" target=\"_blank\">more info</a>.</p>\n"
            ],
            "text/plain": [
              "<IPython.core.display.HTML object>"
            ]
          },
          "metadata": {
            "tags": []
          }
        },
        {
          "output_type": "stream",
          "text": [
            "1.5.0-rc1\n"
          ],
          "name": "stdout"
        }
      ]
    },
    {
      "cell_type": "code",
      "metadata": {
        "id": "N_H-xHxId4VK",
        "colab_type": "code",
        "colab": {
          "base_uri": "https://localhost:8080/",
          "height": 34
        },
        "outputId": "4c64dc91-6c05-4309-ef8f-37cf7c10793e"
      },
      "source": [
        "hello = tf.constant(\"Hello, TensorFlow!\")\n",
        "sess = tf.Session()\n",
        "print(sess.run(hello))"
      ],
      "execution_count": 3,
      "outputs": [
        {
          "output_type": "stream",
          "text": [
            "b'Hello, TensorFlow!'\n"
          ],
          "name": "stdout"
        }
      ]
    },
    {
      "cell_type": "markdown",
      "metadata": {
        "id": "WRCfRwN4d9W_",
        "colab_type": "text"
      },
      "source": [
        "텐서플로우를 다운그레이드해야 실행이 된다"
      ]
    },
    {
      "cell_type": "code",
      "metadata": {
        "id": "fjriA4LIeEhG",
        "colab_type": "code",
        "colab": {
          "base_uri": "https://localhost:8080/",
          "height": 51
        },
        "outputId": "981881e9-d113-4331-c5ae-bafeda0dc9aa"
      },
      "source": [
        "node1 = tf.constant(3.0, tf.float32)\n",
        "node2 = tf.constant(4.0) \n",
        "node3 = tf.add(node1, node2)\n",
        "print(\"node1:\", node1, \"node2:\", node2)\n",
        "print(\"node3:\", node3)"
      ],
      "execution_count": 4,
      "outputs": [
        {
          "output_type": "stream",
          "text": [
            "node1: Tensor(\"Const_1:0\", shape=(), dtype=float32) node2: Tensor(\"Const_2:0\", shape=(), dtype=float32)\n",
            "node3: Tensor(\"Add:0\", shape=(), dtype=float32)\n"
          ],
          "name": "stdout"
        }
      ]
    },
    {
      "cell_type": "code",
      "metadata": {
        "id": "bErypZTvew_Y",
        "colab_type": "code",
        "colab": {
          "base_uri": "https://localhost:8080/",
          "height": 51
        },
        "outputId": "107a2b0f-0fb6-47e5-acd0-e8880fa8c08c"
      },
      "source": [
        "sess = tf.Session()\n",
        "print(\"sess.run(node1,node2):\", sess.run([node1,node2]))\n",
        "print(\"sess.run(node3):\", sess.run(node3))"
      ],
      "execution_count": 5,
      "outputs": [
        {
          "output_type": "stream",
          "text": [
            "sess.run(node1,node2): [3.0, 4.0]\n",
            "sess.run(node3): 7.0\n"
          ],
          "name": "stdout"
        }
      ]
    },
    {
      "cell_type": "code",
      "metadata": {
        "id": "Oh-xJHRzgc-B",
        "colab_type": "code",
        "colab": {
          "base_uri": "https://localhost:8080/",
          "height": 51
        },
        "outputId": "7233f0d0-4124-41dc-a0e1-19d241b2716c"
      },
      "source": [
        "a = tf.placeholder(tf.float32)\n",
        "b = tf.placeholder(tf.float32) \n",
        "adder_node = a + b\n",
        "\n",
        "print(sess.run(adder_node, feed_dict={a: 3, b:4.5}))\n",
        "print(sess.run(adder_node, feed_dict={a: [1,3], b: [2, 4]}))"
      ],
      "execution_count": 6,
      "outputs": [
        {
          "output_type": "stream",
          "text": [
            "7.5\n",
            "[3. 7.]\n"
          ],
          "name": "stdout"
        }
      ]
    }
  ]
}